{
 "cells": [
  {
   "cell_type": "code",
   "execution_count": 2,
   "id": "329a8eab-5205-4350-917a-c53ab3e9b657",
   "metadata": {},
   "outputs": [],
   "source": [
    "import pandas as pd\n",
    "import os\n",
    "import shutil"
   ]
  },
  {
   "cell_type": "code",
   "execution_count": 6,
   "id": "c1e17c55-68c1-49ac-b317-5d8551d1b5b7",
   "metadata": {},
   "outputs": [],
   "source": [
    "data_dir = os.getcwd() + \"/all_images/\"\n",
    "\n",
    "dest_dir = os.getcwd() + \"/reorganized/\""
   ]
  },
  {
   "cell_type": "code",
   "execution_count": 8,
   "id": "39800d65-4ec6-43af-9058-5606d9299341",
   "metadata": {},
   "outputs": [
    {
     "name": "stdout",
     "output_type": "stream",
     "text": [
      "dx\n",
      "nv       6705\n",
      "mel      1113\n",
      "bkl      1099\n",
      "bcc       514\n",
      "akiec     327\n",
      "vasc      142\n",
      "df        115\n",
      "Name: count, dtype: int64\n"
     ]
    }
   ],
   "source": [
    "skin_df2 = pd.read_csv('archive/HAM10000_metadata.csv')\n",
    "print(skin_df2['dx'].value_counts())"
   ]
  },
  {
   "cell_type": "code",
   "execution_count": 9,
   "id": "9006cb72-7370-4832-91b2-05ab211295f6",
   "metadata": {},
   "outputs": [],
   "source": [
    "label = skin_df2['dx'].unique().tolist()\n",
    "label_images = []"
   ]
  },
  {
   "cell_type": "code",
   "execution_count": 10,
   "id": "52e730a5-9d14-4068-8c8c-7c5a5b80a688",
   "metadata": {},
   "outputs": [],
   "source": [
    "for i in label:\n",
    "    os.mkdir(dest_dir + str(i) + \"/\")\n",
    "    sample = skin_df2[skin_df2['dx'] == i]['image_id']\n",
    "    label_images.extend(sample)\n",
    "    for id in label_images:\n",
    "        shutil.copyfile((data_dir + \"/\" + id + \".jpg\"), (dest_dir + i + \"/\" + id + \".jpg\"))\n",
    "    label_images=[]"
   ]
  },
  {
   "cell_type": "code",
   "execution_count": null,
   "id": "59e7ea0a-cde6-4c66-8dd3-a5662a2babe7",
   "metadata": {},
   "outputs": [],
   "source": []
  }
 ],
 "metadata": {
  "kernelspec": {
   "display_name": "Python 3 (ipykernel)",
   "language": "python",
   "name": "python3"
  },
  "language_info": {
   "codemirror_mode": {
    "name": "ipython",
    "version": 3
   },
   "file_extension": ".py",
   "mimetype": "text/x-python",
   "name": "python",
   "nbconvert_exporter": "python",
   "pygments_lexer": "ipython3",
   "version": "3.11.4"
  }
 },
 "nbformat": 4,
 "nbformat_minor": 5
}
